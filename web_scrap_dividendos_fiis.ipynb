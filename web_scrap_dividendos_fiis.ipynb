{
 "cells": [
  {
   "cell_type": "code",
   "execution_count": 1,
   "id": "41ea8e87",
   "metadata": {},
   "outputs": [],
   "source": [
    "import re\n",
    "import selenium\n",
    "from selenium import webdriver"
   ]
  },
  {
   "cell_type": "code",
   "execution_count": 2,
   "id": "b3ed6265",
   "metadata": {},
   "outputs": [],
   "source": [
    "driver = webdriver.Chrome()\n",
    "\n",
    "url = 'https://fiis.com.br/mxrf11/'   \n",
    "driver.get(url)"
   ]
  },
  {
   "cell_type": "code",
   "execution_count": 3,
   "id": "907968b2",
   "metadata": {},
   "outputs": [],
   "source": [
    "from selenium.webdriver.common.by import By"
   ]
  },
  {
   "cell_type": "code",
   "execution_count": 13,
   "id": "d92d5113",
   "metadata": {},
   "outputs": [],
   "source": [
    "# tem o find_elements também\n",
    "menu_button = driver.find_elements(By.CLASS_NAME,\"headerTicker__content__info\");"
   ]
  },
  {
   "cell_type": "code",
   "execution_count": 14,
   "id": "0d79c644",
   "metadata": {},
   "outputs": [
    {
     "ename": "AttributeError",
     "evalue": "'list' object has no attribute 'text'",
     "output_type": "error",
     "traceback": [
      "\u001b[0;31m---------------------------------------------------------------------------\u001b[0m",
      "\u001b[0;31mAttributeError\u001b[0m                            Traceback (most recent call last)",
      "Cell \u001b[0;32mIn[14], line 1\u001b[0m\n\u001b[0;32m----> 1\u001b[0m \u001b[38;5;28mprint\u001b[39m(\u001b[43mmenu_button\u001b[49m\u001b[38;5;241;43m.\u001b[39;49m\u001b[43mtext\u001b[49m)\n",
      "\u001b[0;31mAttributeError\u001b[0m: 'list' object has no attribute 'text'"
     ]
    }
   ],
   "source": [
    "print(menu_button.text)  # Não funciona com find_elements"
   ]
  },
  {
   "cell_type": "code",
   "execution_count": 15,
   "id": "93f12e99",
   "metadata": {},
   "outputs": [
    {
     "name": "stdout",
     "output_type": "stream",
     "text": [
      "12,76 %\n",
      "Dividend Yield\n",
      "R$ 0,10\n",
      "Último Rendimento\n",
      "R$ 3,3 B\n",
      "Patrimônio Líquido\n",
      "1,06\n",
      "P/VP\n"
     ]
    }
   ],
   "source": [
    "print(menu_button[0].text)"
   ]
  },
  {
   "cell_type": "code",
   "execution_count": 25,
   "id": "836dc9df",
   "metadata": {},
   "outputs": [],
   "source": [
    "# Captura o texto do elemento\n",
    "menu_text = menu_button.text"
   ]
  },
  {
   "cell_type": "code",
   "execution_count": 30,
   "id": "a0515c2c",
   "metadata": {},
   "outputs": [
    {
     "name": "stdout",
     "output_type": "stream",
     "text": [
      "12,76 %\n",
      "Dividend Yield\n",
      "R$ 0,10\n",
      "Último Rendimento\n",
      "R$ 3,3 B\n",
      "Patrimônio Líquido\n",
      "1,06\n",
      "P/VP\n"
     ]
    }
   ],
   "source": [
    "# Divide o texto em linhas separadas\n",
    "lines = menu_text.split('\\n')\n",
    "\n",
    "# Acessa cada linha individualmente\n",
    "for line in lines:\n",
    "    print(line)"
   ]
  },
  {
   "cell_type": "code",
   "execution_count": 31,
   "id": "2531daef",
   "metadata": {},
   "outputs": [
    {
     "data": {
      "text/plain": [
       "['12,76 %',\n",
       " 'Dividend Yield',\n",
       " 'R$ 0,10',\n",
       " 'Último Rendimento',\n",
       " 'R$ 3,3 B',\n",
       " 'Patrimônio Líquido',\n",
       " '1,06',\n",
       " 'P/VP']"
      ]
     },
     "execution_count": 31,
     "metadata": {},
     "output_type": "execute_result"
    }
   ],
   "source": [
    "lines"
   ]
  },
  {
   "cell_type": "code",
   "execution_count": 32,
   "id": "3c0beb3c",
   "metadata": {},
   "outputs": [
    {
     "name": "stdout",
     "output_type": "stream",
     "text": [
      "12,76 %\n",
      "Dividend Yield\n"
     ]
    }
   ],
   "source": [
    "# Acessa a primeira linha (índice 0)\n",
    "print(lines[0])  # Exemplo: 12,76 %\n",
    "\n",
    "# Acessa a segunda linha (índice 1)\n",
    "print(lines[1])  # Exemplo: Dividend Yield"
   ]
  },
  {
   "cell_type": "code",
   "execution_count": 34,
   "id": "d0dde0be",
   "metadata": {},
   "outputs": [
    {
     "name": "stdout",
     "output_type": "stream",
     "text": [
      "R$ 0,10\n"
     ]
    }
   ],
   "source": [
    "print(lines[2])  ## Dividendo"
   ]
  },
  {
   "cell_type": "markdown",
   "id": "9bfba6d8",
   "metadata": {},
   "source": [
    "### Dividendo extraido"
   ]
  },
  {
   "cell_type": "code",
   "execution_count": 35,
   "id": "aaed50df",
   "metadata": {},
   "outputs": [
    {
     "name": "stdout",
     "output_type": "stream",
     "text": [
      "0,10\n"
     ]
    }
   ],
   "source": [
    "valor_com_prefixo = \"R$ 0,10\"\n",
    "valor_sem_prefixo = valor_com_prefixo.replace(\"R$ \", \"\")\n",
    "print(valor_sem_prefixo)  # Resultado: \"0,10\""
   ]
  },
  {
   "cell_type": "code",
   "execution_count": 21,
   "id": "5cd0119c",
   "metadata": {},
   "outputs": [
    {
     "ename": "TypeError",
     "evalue": "'WebElement' object is not subscriptable",
     "output_type": "error",
     "traceback": [
      "\u001b[0;31m---------------------------------------------------------------------------\u001b[0m",
      "\u001b[0;31mTypeError\u001b[0m                                 Traceback (most recent call last)",
      "Cell \u001b[0;32mIn[21], line 2\u001b[0m\n\u001b[1;32m      1\u001b[0m \u001b[38;5;66;03m# Obtém o valor de um atributo específico\u001b[39;00m\n\u001b[0;32m----> 2\u001b[0m attribute_value \u001b[38;5;241m=\u001b[39m \u001b[43mmenu_button\u001b[49m\u001b[43m[\u001b[49m\u001b[38;5;241;43m0\u001b[39;49m\u001b[43m]\u001b[49m\u001b[38;5;241m.\u001b[39mget_attribute(\u001b[38;5;124m'\u001b[39m\u001b[38;5;124matributo_desejado\u001b[39m\u001b[38;5;124m'\u001b[39m)\n\u001b[1;32m      3\u001b[0m \u001b[38;5;28mprint\u001b[39m(attribute_value)\n",
      "\u001b[0;31mTypeError\u001b[0m: 'WebElement' object is not subscriptable"
     ]
    }
   ],
   "source": [
    "# Obtém o valor de um atributo específico\n",
    "attribute_value = menu_button[0].get_attribute('atributo_desejado')\n",
    "print(attribute_value)\n"
   ]
  },
  {
   "cell_type": "code",
   "execution_count": 22,
   "id": "a494e1a2",
   "metadata": {},
   "outputs": [
    {
     "ename": "TypeError",
     "evalue": "'WebElement' object is not subscriptable",
     "output_type": "error",
     "traceback": [
      "\u001b[0;31m---------------------------------------------------------------------------\u001b[0m",
      "\u001b[0;31mTypeError\u001b[0m                                 Traceback (most recent call last)",
      "Cell \u001b[0;32mIn[22], line 1\u001b[0m\n\u001b[0;32m----> 1\u001b[0m element_value \u001b[38;5;241m=\u001b[39m \u001b[43mmenu_button\u001b[49m\u001b[43m[\u001b[49m\u001b[38;5;241;43m0\u001b[39;49m\u001b[43m]\u001b[49m\u001b[38;5;241m.\u001b[39mget_attribute(\u001b[38;5;124m'\u001b[39m\u001b[38;5;124mvalue\u001b[39m\u001b[38;5;124m'\u001b[39m)\n\u001b[1;32m      2\u001b[0m \u001b[38;5;28mprint\u001b[39m(element_value)\n",
      "\u001b[0;31mTypeError\u001b[0m: 'WebElement' object is not subscriptable"
     ]
    }
   ],
   "source": [
    "element_value = menu_button[0].get_attribute('value')\n",
    "print(element_value)\n"
   ]
  },
  {
   "cell_type": "code",
   "execution_count": null,
   "id": "349e3842",
   "metadata": {},
   "outputs": [],
   "source": [
    "### Diferença entre find_element e find_elements"
   ]
  },
  {
   "cell_type": "code",
   "execution_count": 16,
   "id": "35bde040",
   "metadata": {},
   "outputs": [],
   "source": [
    "# tem o find_elements também\n",
    "menu_button = driver.find_element(By.CLASS_NAME,\"headerTicker__content__info\");"
   ]
  },
  {
   "cell_type": "code",
   "execution_count": 17,
   "id": "7215cbba",
   "metadata": {},
   "outputs": [
    {
     "name": "stdout",
     "output_type": "stream",
     "text": [
      "12,76 %\n",
      "Dividend Yield\n",
      "R$ 0,10\n",
      "Último Rendimento\n",
      "R$ 3,3 B\n",
      "Patrimônio Líquido\n",
      "1,06\n",
      "P/VP\n"
     ]
    }
   ],
   "source": [
    "print(menu_button.text)  # dá erro no find_elements e funciona no find_element"
   ]
  },
  {
   "cell_type": "code",
   "execution_count": 18,
   "id": "d6ee02f5",
   "metadata": {},
   "outputs": [
    {
     "ename": "TypeError",
     "evalue": "'WebElement' object is not subscriptable",
     "output_type": "error",
     "traceback": [
      "\u001b[0;31m---------------------------------------------------------------------------\u001b[0m",
      "\u001b[0;31mTypeError\u001b[0m                                 Traceback (most recent call last)",
      "Cell \u001b[0;32mIn[18], line 1\u001b[0m\n\u001b[0;32m----> 1\u001b[0m \u001b[38;5;28mprint\u001b[39m(\u001b[43mmenu_button\u001b[49m\u001b[43m[\u001b[49m\u001b[38;5;241;43m0\u001b[39;49m\u001b[43m]\u001b[49m\u001b[38;5;241m.\u001b[39mtext)\n",
      "\u001b[0;31mTypeError\u001b[0m: 'WebElement' object is not subscriptable"
     ]
    }
   ],
   "source": [
    "print(menu_button[0].text)   # porém não itera"
   ]
  },
  {
   "cell_type": "code",
   "execution_count": null,
   "id": "d88622a0",
   "metadata": {},
   "outputs": [],
   "source": [
    "### Datas"
   ]
  },
  {
   "cell_type": "code",
   "execution_count": 37,
   "id": "60917f2a",
   "metadata": {},
   "outputs": [],
   "source": [
    "# tem o find_elements também\n",
    "datas = driver.find_elements(By.CLASS_NAME,\"yieldChart__table__bloco\");"
   ]
  },
  {
   "cell_type": "code",
   "execution_count": 39,
   "id": "eb88caf4",
   "metadata": {},
   "outputs": [
    {
     "data": {
      "text/plain": [
       "'Data Base\\nData Pagamento\\nCotação Base\\nDividend Yield\\nRendimento'"
      ]
     },
     "execution_count": 39,
     "metadata": {},
     "output_type": "execute_result"
    }
   ],
   "source": [
    "datas[0].text"
   ]
  },
  {
   "cell_type": "code",
   "execution_count": 40,
   "id": "1a9f7385",
   "metadata": {},
   "outputs": [
    {
     "data": {
      "text/plain": [
       "'31.05.2024\\n14.06.2024\\nR$ 10,31\\n0,97%\\nR$ 0,10'"
      ]
     },
     "execution_count": 40,
     "metadata": {},
     "output_type": "execute_result"
    }
   ],
   "source": [
    "datas[1].text   # daqui dá para fazer uma tabela - dividend"
   ]
  },
  {
   "cell_type": "code",
   "execution_count": 41,
   "id": "7591acf0",
   "metadata": {},
   "outputs": [
    {
     "data": {
      "text/plain": [
       "['31.05.2024', '14.06.2024', 'R$ 10,31', '0,97%', 'R$ 0,10']"
      ]
     },
     "execution_count": 41,
     "metadata": {},
     "output_type": "execute_result"
    }
   ],
   "source": [
    "datei = datas[1].text.split('\\n')\n",
    "datei"
   ]
  },
  {
   "cell_type": "code",
   "execution_count": null,
   "id": "039ddf59",
   "metadata": {},
   "outputs": [],
   "source": [
    "# Fecha o navegador\n",
    "driver.quit()"
   ]
  }
 ],
 "metadata": {
  "kernelspec": {
   "display_name": "Python 3 (ipykernel)",
   "language": "python",
   "name": "python3"
  },
  "language_info": {
   "codemirror_mode": {
    "name": "ipython",
    "version": 3
   },
   "file_extension": ".py",
   "mimetype": "text/x-python",
   "name": "python",
   "nbconvert_exporter": "python",
   "pygments_lexer": "ipython3",
   "version": "3.9.16"
  }
 },
 "nbformat": 4,
 "nbformat_minor": 5
}
